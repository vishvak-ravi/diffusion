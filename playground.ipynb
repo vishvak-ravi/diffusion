{
 "cells": [
  {
   "cell_type": "code",
   "execution_count": 1,
   "metadata": {},
   "outputs": [],
   "source": [
    "import numpy as np\n",
    "import torch\n",
    "from torch import nn\n",
    "from torch.utils.data import DataLoader\n",
    "from torchvision.datasets import CIFAR10\n",
    "from torchvision.transforms import Compose, Normalize, ToTensor"
   ]
  },
  {
   "cell_type": "code",
   "execution_count": 2,
   "metadata": {},
   "outputs": [
    {
     "name": "stderr",
     "output_type": "stream",
     "text": [
      "0.1%"
     ]
    },
    {
     "name": "stdout",
     "output_type": "stream",
     "text": [
      "Downloading https://www.cs.toronto.edu/~kriz/cifar-10-python.tar.gz to data/cifar-10-python.tar.gz\n"
     ]
    },
    {
     "name": "stderr",
     "output_type": "stream",
     "text": [
      "100.0%\n"
     ]
    },
    {
     "name": "stdout",
     "output_type": "stream",
     "text": [
      "Extracting data/cifar-10-python.tar.gz to data\n"
     ]
    }
   ],
   "source": [
    "## Data Prep\n",
    "\n",
    "dataset = CIFAR10(\n",
    "    root=\"data\",\n",
    "    train=True,\n",
    "    transform=Compose([ToTensor(), Normalize(0.5, 0.5)]),\n",
    "    download=True\n",
    ")\n"
   ]
  },
  {
   "cell_type": "code",
   "execution_count": 7,
   "metadata": {},
   "outputs": [
    {
     "name": "stdout",
     "output_type": "stream",
     "text": [
      "tensor([[[[-0.1529,  0.1059,  0.2471,  ...,  0.0588,  0.2235,  0.1137],\n",
      "          [-0.2549, -0.1216,  0.0824,  ..., -0.1294,  0.0118,  0.0824],\n",
      "          [-0.2863, -0.2627,  0.0902,  ..., -0.2392, -0.0196,  0.0745],\n",
      "          ...,\n",
      "          [-0.3333, -0.3804, -0.4118,  ..., -0.3020, -0.3020, -0.2627],\n",
      "          [-0.3020, -0.3333, -0.3804,  ..., -0.3725, -0.3490, -0.4118],\n",
      "          [-0.2314, -0.2941, -0.3333,  ..., -0.4980, -0.5216, -0.5529]],\n",
      "\n",
      "         [[-0.3020, -0.0902,  0.0039,  ..., -0.1137,  0.0431,  0.0667],\n",
      "          [-0.3804, -0.2784, -0.0980,  ..., -0.2235, -0.0510,  0.0667],\n",
      "          [-0.3961, -0.3725, -0.0275,  ..., -0.2627, -0.0353,  0.0353],\n",
      "          ...,\n",
      "          [-0.3804, -0.4275, -0.4667,  ..., -0.2549, -0.2471, -0.2000],\n",
      "          [-0.3412, -0.3725, -0.4196,  ..., -0.3020, -0.2627, -0.3176],\n",
      "          [-0.2706, -0.3333, -0.3725,  ..., -0.4039, -0.4196, -0.4431]],\n",
      "\n",
      "         [[-0.5529, -0.3490, -0.2706,  ..., -0.3098, -0.1608, -0.2392],\n",
      "          [-0.6471, -0.5294, -0.3490,  ..., -0.3804, -0.1843, -0.1686],\n",
      "          [-0.6627, -0.6235, -0.2549,  ..., -0.4039, -0.1608, -0.1686],\n",
      "          ...,\n",
      "          [-0.5451, -0.5843, -0.6157,  ..., -0.7569, -0.7569, -0.6471],\n",
      "          [-0.4902, -0.5216, -0.5686,  ..., -0.7647, -0.7647, -0.7569],\n",
      "          [-0.4196, -0.4824, -0.5216,  ..., -0.8353, -0.8902, -0.8667]]],\n",
      "\n",
      "\n",
      "        [[[-0.2784,  0.0980,  0.5137,  ...,  0.8039,  0.5843,  0.5843],\n",
      "          [-0.1765,  0.2000,  0.7020,  ...,  0.7020,  0.4980,  0.4118],\n",
      "          [-0.2549,  0.1216,  0.7804,  ...,  0.7098,  0.6784,  0.4824],\n",
      "          ...,\n",
      "          [-0.5137, -0.5137, -0.5529,  ..., -0.7333, -0.7569, -0.8745],\n",
      "          [-0.5294, -0.5294, -0.5529,  ..., -0.7098, -0.7412, -0.7569],\n",
      "          [-0.5373, -0.5529, -0.5529,  ..., -0.7255, -0.7333, -0.7255]],\n",
      "\n",
      "         [[-0.1922,  0.1529,  0.5451,  ...,  0.8196,  0.6235,  0.6392],\n",
      "          [-0.0902,  0.2706,  0.7569,  ...,  0.7333,  0.5216,  0.4588],\n",
      "          [-0.1451,  0.2000,  0.8431,  ...,  0.7490,  0.6863,  0.5137],\n",
      "          ...,\n",
      "          [-0.4824, -0.5059, -0.5686,  ..., -0.6863, -0.7255, -0.8588],\n",
      "          [-0.4902, -0.5137, -0.5608,  ..., -0.6549, -0.6941, -0.7176],\n",
      "          [-0.4902, -0.5137, -0.5216,  ..., -0.6471, -0.6549, -0.6471]],\n",
      "\n",
      "         [[-0.1843,  0.1765,  0.5765,  ...,  0.7725,  0.4980,  0.4275],\n",
      "          [-0.0588,  0.2941,  0.7804,  ...,  0.6706,  0.4353,  0.3412],\n",
      "          [-0.0902,  0.2392,  0.8588,  ...,  0.6941,  0.6314,  0.4980],\n",
      "          ...,\n",
      "          [-0.3882, -0.4588, -0.5059,  ..., -0.5608, -0.6235, -0.7647],\n",
      "          [-0.3882, -0.4431, -0.4667,  ..., -0.5294, -0.5765, -0.6078],\n",
      "          [-0.3961, -0.4275, -0.4275,  ..., -0.5137, -0.5216, -0.5059]]],\n",
      "\n",
      "\n",
      "        [[[ 0.5765,  0.5608,  0.5843,  ...,  0.8510,  0.8275,  0.7255],\n",
      "          [ 0.6000,  0.5922,  0.6706,  ...,  0.7647,  0.6235,  0.4667],\n",
      "          [ 0.6157,  0.6471,  0.7176,  ...,  0.4745,  0.2706,  0.1843],\n",
      "          ...,\n",
      "          [-0.3647, -0.3725, -0.3804,  ..., -0.3961, -0.4039, -0.4118],\n",
      "          [-0.3647, -0.3647, -0.3490,  ..., -0.3882, -0.3882, -0.3804],\n",
      "          [-0.3647, -0.3804, -0.3804,  ..., -0.3647, -0.3725, -0.3725]],\n",
      "\n",
      "         [[ 0.5294,  0.5451,  0.5843,  ...,  0.8510,  0.8196,  0.7098],\n",
      "          [ 0.5529,  0.5765,  0.6706,  ...,  0.7647,  0.6078,  0.4667],\n",
      "          [ 0.5843,  0.6314,  0.7098,  ...,  0.4745,  0.2706,  0.1922],\n",
      "          ...,\n",
      "          [-0.4588, -0.4588, -0.4667,  ..., -0.4667, -0.4745, -0.4824],\n",
      "          [-0.4588, -0.4510, -0.4353,  ..., -0.4588, -0.4588, -0.4510],\n",
      "          [-0.4510, -0.4667, -0.4667,  ..., -0.4353, -0.4431, -0.4431]],\n",
      "\n",
      "         [[ 0.6078,  0.6078,  0.6392,  ...,  0.8431,  0.8510,  0.7412],\n",
      "          [ 0.6314,  0.6392,  0.7333,  ...,  0.7804,  0.6784,  0.5529],\n",
      "          [ 0.6314,  0.6941,  0.7725,  ...,  0.5529,  0.3490,  0.2784],\n",
      "          ...,\n",
      "          [-0.3176, -0.3412, -0.3647,  ..., -0.4431, -0.4510, -0.4588],\n",
      "          [-0.3176, -0.3333, -0.3255,  ..., -0.4353, -0.4353, -0.4275],\n",
      "          [-0.3412, -0.3569, -0.3569,  ..., -0.4118, -0.4196, -0.4196]]],\n",
      "\n",
      "\n",
      "        ...,\n",
      "\n",
      "\n",
      "        [[[-0.1608, -0.1451, -0.1294,  ...,  0.1216,  0.0745,  0.0431],\n",
      "          [-0.1529, -0.1373, -0.1059,  ...,  0.2000,  0.1137,  0.0353],\n",
      "          [-0.1451, -0.1294, -0.1059,  ...,  0.1686,  0.1216,  0.0510],\n",
      "          ...,\n",
      "          [ 0.1294,  0.1451,  0.2000,  ...,  0.2941,  0.2471,  0.2078],\n",
      "          [-0.1059, -0.0824, -0.0667,  ..., -0.0039, -0.0196, -0.0196],\n",
      "          [-0.2471, -0.2235, -0.2000,  ..., -0.1686, -0.1765, -0.1843]],\n",
      "\n",
      "         [[ 0.0275,  0.0431,  0.0588,  ...,  0.2627,  0.2314,  0.2000],\n",
      "          [ 0.0353,  0.0510,  0.0824,  ...,  0.3255,  0.2706,  0.2000],\n",
      "          [ 0.0431,  0.0588,  0.0824,  ...,  0.3098,  0.2941,  0.2314],\n",
      "          ...,\n",
      "          [-0.0667, -0.0667, -0.0196,  ...,  0.0667,  0.0353, -0.0039],\n",
      "          [-0.2157, -0.2157, -0.2078,  ..., -0.1059, -0.1216, -0.1216],\n",
      "          [-0.2941, -0.2941, -0.2784,  ..., -0.2000, -0.2078, -0.2157]],\n",
      "\n",
      "         [[ 0.3333,  0.3333,  0.3647,  ...,  0.5529,  0.5059,  0.4745],\n",
      "          [ 0.3412,  0.3490,  0.3804,  ...,  0.5608,  0.5294,  0.4824],\n",
      "          [ 0.3412,  0.3569,  0.3804,  ...,  0.5451,  0.5529,  0.5059],\n",
      "          ...,\n",
      "          [-0.2627, -0.2627, -0.2157,  ..., -0.0745, -0.1059, -0.1451],\n",
      "          [-0.2000, -0.1922, -0.1686,  ..., -0.1216, -0.1294, -0.1373],\n",
      "          [-0.1922, -0.1843, -0.1608,  ..., -0.1216, -0.1373, -0.1451]]],\n",
      "\n",
      "\n",
      "        [[[ 0.9843,  0.9608,  0.9686,  ...,  0.9451,  0.9451,  0.9451],\n",
      "          [ 1.0000,  0.9922,  0.9922,  ...,  0.9686,  0.9686,  0.9686],\n",
      "          [ 1.0000,  0.9765,  0.9843,  ...,  0.9608,  0.9608,  0.9529],\n",
      "          ...,\n",
      "          [ 1.0000,  0.9922,  0.9922,  ...,  0.9922,  0.9922,  0.9765],\n",
      "          [ 1.0000,  1.0000,  1.0000,  ...,  1.0000,  1.0000,  0.9922],\n",
      "          [ 1.0000,  0.9765,  0.9843,  ...,  0.9843,  0.9765,  0.9686]],\n",
      "\n",
      "         [[ 0.9843,  0.9608,  0.9686,  ...,  0.9765,  0.9765,  0.9765],\n",
      "          [ 1.0000,  0.9922,  0.9922,  ...,  1.0000,  1.0000,  1.0000],\n",
      "          [ 1.0000,  0.9765,  0.9843,  ...,  0.9843,  0.9843,  0.9843],\n",
      "          ...,\n",
      "          [ 1.0000,  0.9922,  0.9922,  ...,  0.9922,  0.9922,  0.9765],\n",
      "          [ 1.0000,  1.0000,  1.0000,  ...,  1.0000,  1.0000,  1.0000],\n",
      "          [ 1.0000,  0.9765,  0.9843,  ...,  0.9843,  0.9765,  0.9686]],\n",
      "\n",
      "         [[ 0.9843,  0.9608,  0.9686,  ...,  0.9686,  0.9686,  0.9686],\n",
      "          [ 1.0000,  0.9922,  0.9922,  ...,  0.9922,  0.9922,  0.9922],\n",
      "          [ 1.0000,  0.9765,  0.9843,  ...,  0.9843,  0.9843,  0.9765],\n",
      "          ...,\n",
      "          [ 1.0000,  0.9922,  0.9922,  ...,  0.9922,  0.9922,  0.9765],\n",
      "          [ 1.0000,  1.0000,  1.0000,  ...,  1.0000,  1.0000,  0.9922],\n",
      "          [ 1.0000,  0.9765,  0.9843,  ...,  0.9843,  0.9765,  0.9686]]],\n",
      "\n",
      "\n",
      "        [[[-0.4980, -0.4196, -0.3412,  ..., -0.5765, -0.6549, -0.7569],\n",
      "          [-0.5216, -0.5216, -0.5373,  ..., -0.8039, -0.7961, -0.6784],\n",
      "          [-0.6314, -0.6000, -0.5059,  ..., -0.8196, -0.6863, -0.6471],\n",
      "          ...,\n",
      "          [ 0.2941,  0.3333,  0.4039,  ..., -0.2549, -0.3176, -0.0353],\n",
      "          [ 0.3333,  0.4353,  0.4118,  ..., -0.3725, -0.2392, -0.0118],\n",
      "          [ 0.2941,  0.4196,  0.4196,  ..., -0.0824,  0.0902, -0.1451]],\n",
      "\n",
      "         [[-0.3098, -0.1843, -0.1373,  ..., -0.3255, -0.4510, -0.6471],\n",
      "          [-0.3490, -0.3176, -0.3961,  ..., -0.6706, -0.5922, -0.5137],\n",
      "          [-0.4667, -0.4902, -0.4039,  ..., -0.7569, -0.5529, -0.5294],\n",
      "          ...,\n",
      "          [ 0.0745,  0.1216,  0.2000,  ..., -0.3333, -0.4039, -0.1059],\n",
      "          [ 0.1373,  0.2157,  0.1843,  ..., -0.4196, -0.2863, -0.0745],\n",
      "          [ 0.0980,  0.2314,  0.2235,  ..., -0.1294,  0.0431, -0.2000]],\n",
      "\n",
      "         [[-0.5686, -0.5137, -0.4510,  ..., -0.3882, -0.5373, -0.7725],\n",
      "          [-0.5765, -0.5686, -0.5922,  ..., -0.8431, -0.7255, -0.6627],\n",
      "          [-0.5294, -0.6078, -0.5843,  ..., -0.8902, -0.7333, -0.7176],\n",
      "          ...,\n",
      "          [-0.1686, -0.0902, -0.0510,  ..., -0.4196, -0.4824, -0.1922],\n",
      "          [-0.0667,  0.0196, -0.0667,  ..., -0.4667, -0.3333, -0.1686],\n",
      "          [-0.1137,  0.0353, -0.0039,  ..., -0.1922, -0.0275, -0.3098]]]])\n",
      "tensor([5, 1, 0, 1, 5, 6, 8, 8, 4, 9, 7, 5, 0, 5, 7, 9, 9, 3, 9, 7, 9, 4, 1, 7,\n",
      "        1, 5, 8, 3, 9, 0, 0, 2])\n"
     ]
    },
    {
     "ename": "RuntimeError",
     "evalue": "permute(sparse_coo): number of dimensions in the tensor input does not match the length of the desired ordering of dimensions i.e. input.dim() = 4 is not equal to len(dims) = 3",
     "output_type": "error",
     "traceback": [
      "\u001b[0;31m---------------------------------------------------------------------------\u001b[0m",
      "\u001b[0;31mRuntimeError\u001b[0m                              Traceback (most recent call last)",
      "Cell \u001b[0;32mIn[7], line 21\u001b[0m\n\u001b[1;32m     19\u001b[0m fig, axes \u001b[38;5;241m=\u001b[39m plt\u001b[38;5;241m.\u001b[39msubplots(\u001b[38;5;241m1\u001b[39m, \u001b[38;5;241m5\u001b[39m, figsize\u001b[38;5;241m=\u001b[39m(\u001b[38;5;241m15\u001b[39m, \u001b[38;5;241m3\u001b[39m))\n\u001b[1;32m     20\u001b[0m \u001b[38;5;28;01mfor\u001b[39;00m i \u001b[38;5;129;01min\u001b[39;00m \u001b[38;5;28mrange\u001b[39m(\u001b[38;5;241m5\u001b[39m):\n\u001b[0;32m---> 21\u001b[0m     axes[i]\u001b[38;5;241m.\u001b[39mimshow(\u001b[43mimages\u001b[49m\u001b[43m[\u001b[49m\u001b[43mi\u001b[49m\u001b[43m]\u001b[49m\u001b[38;5;241;43m.\u001b[39;49m\u001b[43msqueeze\u001b[49m\u001b[43m(\u001b[49m\u001b[43m)\u001b[49m\u001b[38;5;241;43m.\u001b[39;49m\u001b[43mpermute\u001b[49m\u001b[43m(\u001b[49m\u001b[38;5;241;43m1\u001b[39;49m\u001b[43m,\u001b[49m\u001b[43m \u001b[49m\u001b[38;5;241;43m2\u001b[39;49m\u001b[43m,\u001b[49m\u001b[43m \u001b[49m\u001b[38;5;241;43m0\u001b[39;49m\u001b[43m)\u001b[49m)\n\u001b[1;32m     22\u001b[0m     axes[i]\u001b[38;5;241m.\u001b[39mset_title(\u001b[38;5;124mf\u001b[39m\u001b[38;5;124m\"\u001b[39m\u001b[38;5;124mLabel: \u001b[39m\u001b[38;5;132;01m{\u001b[39;00mlabels[i]\u001b[38;5;132;01m}\u001b[39;00m\u001b[38;5;124m\"\u001b[39m)\n\u001b[1;32m     24\u001b[0m plt\u001b[38;5;241m.\u001b[39mshow()\n",
      "\u001b[0;31mRuntimeError\u001b[0m: permute(sparse_coo): number of dimensions in the tensor input does not match the length of the desired ordering of dimensions i.e. input.dim() = 4 is not equal to len(dims) = 3"
     ]
    },
    {
     "data": {
      "image/png": "[encoded data removed]",
      "text/plain": [
       "<Figure size 1500x300 with 5 Axes>"
      ]
     },
     "metadata": {},
     "output_type": "display_data"
    }
   ],
   "source": [
    "dataloader = DataLoader(dataset, batch_size=32, shuffle=True)\n",
    "for (X, y) in dataloader:\n",
    "    print(X)\n",
    "    print(y)\n",
    "    break\n",
    "\n",
    "import matplotlib.pyplot as plt\n",
    "\n",
    "# Get the first five images and their corresponding labels\n",
    "images = []\n",
    "labels = []\n",
    "for i, (image, label) in enumerate(dataloader):\n",
    "    images.append(image)\n",
    "    labels.append(label)\n",
    "    if i == 4:\n",
    "        break\n",
    "\n",
    "# Plot the images\n",
    "fig, axes = plt.subplots(1, 5, figsize=(15, 3))\n",
    "\n",
    "for i in range(5):\n",
    "    axes[i].imshow(images[i].squeeze().permute(1, 2, 0))\n",
    "    axes[i].set_title(f\"Label: {labels[i]}\")\n",
    "\n",
    "plt.show()"
   ]
  },
  {
   "cell_type": "code",
   "execution_count": 3,
   "metadata": {},
   "outputs": [
    {
     "ename": "NameError",
     "evalue": "name 'num_steps' is not defined",
     "output_type": "error",
     "traceback": [
      "\u001b[0;31m---------------------------------------------------------------------------\u001b[0m",
      "\u001b[0;31mNameError\u001b[0m                                 Traceback (most recent call last)",
      "Cell \u001b[0;32mIn[3], line 1\u001b[0m\n\u001b[0;32m----> 1\u001b[0m timesteps \u001b[38;5;241m=\u001b[39m np\u001b[38;5;241m.\u001b[39mlinspace(\u001b[38;5;241m80\u001b[39m, \u001b[38;5;241m0\u001b[39m, \u001b[43mnum_steps\u001b[49m) \u001b[38;5;66;03m# {80 ...., 0} for 100 elements\u001b[39;00m\n\u001b[1;32m      3\u001b[0m \u001b[38;5;66;03m# SDE dictates smaller step sizes at low noise levels\u001b[39;00m\n\u001b[1;32m      4\u001b[0m sigma_max \u001b[38;5;241m=\u001b[39m \u001b[38;5;241m80\u001b[39m\n",
      "\u001b[0;31mNameError\u001b[0m: name 'num_steps' is not defined"
     ]
    }
   ],
   "source": [
    "timesteps = np.linspace(80, 0, num_steps) # {80 ...., 0} for 100 elements\n",
    "\n",
    "# SDE dictates smaller step sizes at low noise levels\n",
    "sigma_max = 80\n",
    "sigma_min = 0.002\n",
    "rho = 7 # raise all elements to 7 while maintaining scale\n",
    "steps = torch.arange(0, num_steps)\n",
    "timesteps = ((sigma_max ** (1/rho)) + (steps / (num_steps - 1)) * (sigma_min ** (1/rho) - sigma_max ** (1/rho))) ** rho #scale from 0, num_steps to 80, 0 following some root of step shape—looks like pixel value/time graph\n",
    "print(timesteps)"
   ]
  },
  {
   "cell_type": "code",
   "execution_count": 8,
   "metadata": {},
   "outputs": [
    {
     "ename": "ValueError",
     "evalue": "operands could not be broadcast together with shapes (99,) (100,) ",
     "output_type": "error",
     "traceback": [
      "\u001b[0;31m---------------------------------------------------------------------------\u001b[0m",
      "\u001b[0;31mValueError\u001b[0m                                Traceback (most recent call last)",
      "Cell \u001b[0;32mIn[8], line 6\u001b[0m\n\u001b[1;32m      2\u001b[0m img_shape \u001b[38;5;241m=\u001b[39m \u001b[38;5;241m28\u001b[39m \u001b[38;5;241m*\u001b[39m \u001b[38;5;241m28\u001b[39m\n\u001b[1;32m      4\u001b[0m timesteps \u001b[38;5;241m=\u001b[39m np\u001b[38;5;241m.\u001b[39mlinspace(\u001b[38;5;241m80\u001b[39m, \u001b[38;5;241m0\u001b[39m, num_steps) \u001b[38;5;66;03m# {80 ...., 0} for 100 elements\u001b[39;00m\n\u001b[0;32m----> 6\u001b[0m \u001b[38;5;28mprint\u001b[39m(\u001b[43mtimesteps\u001b[49m\u001b[43m[\u001b[49m\u001b[43m:\u001b[49m\u001b[38;5;241;43m-\u001b[39;49m\u001b[38;5;241;43m1\u001b[39;49m\u001b[43m]\u001b[49m\u001b[43m \u001b[49m\u001b[38;5;241;43m==\u001b[39;49m\u001b[43m \u001b[49m\u001b[43mtimesteps\u001b[49m)\n\u001b[1;32m      8\u001b[0m x \u001b[38;5;241m=\u001b[39m torch\u001b[38;5;241m.\u001b[39mrandn(img_shape) \u001b[38;5;241m*\u001b[39m timesteps[\u001b[38;5;241m0\u001b[39m]\n\u001b[1;32m     10\u001b[0m \u001b[38;5;28;01mfor\u001b[39;00m t_curr, t_next \u001b[38;5;129;01min\u001b[39;00m \u001b[38;5;28mzip\u001b[39m(timesteps[:\u001b[38;5;241m-\u001b[39m\u001b[38;5;241m1\u001b[39m], timesteps[\u001b[38;5;241m1\u001b[39m:]):\n",
      "\u001b[0;31mValueError\u001b[0m: operands could not be broadcast together with shapes (99,) (100,) "
     ]
    }
   ],
   "source": [
    "#ROUGH FORWARD PASS\n",
    "\n",
    "num_steps = 100\n",
    "img_shape = 28 * 28\n",
    "\n",
    "x = torch.randn(img_shape) * timesteps[0]\n",
    "\n",
    "for t_curr, t_next in zip(timesteps[:-1], timesteps[1:]):\n",
    "    \n",
    "    noise_level = t_next / t_curr\n",
    "    \n",
    "    x = x * noise_level + denoise(x, t_curr)\n",
    "    "
   ]
  },
  {
   "cell_type": "code",
   "execution_count": null,
   "metadata": {},
   "outputs": [],
   "source": [
    "#BACKWARD PASS\n",
    "for real_img in data:\n",
    "    sigma = np.uniform(0, 80) # noise level\n",
    "    \n",
    "    noised_image = real_img + sigma * torch.randn_like(real_img)\n",
    "    \n",
    "    denoise_image = denoise(noisy_image, sigma) # must give it a noise level as input so it knows how many times to denoise, etc.\n",
    "    \n",
    "    loss = mse(denoise_image, noise_image)\n",
    "    \n",
    "    #train denoiser"
   ]
  },
  {
   "cell_type": "markdown",
   "metadata": {},
   "source": [
    "# Issues w above\n",
    "noise_image is now scaled to a potentially large value—can be tricky to train and generally unoptimal to have varying input image sizes\n",
    "scale down"
   ]
  },
  {
   "cell_type": "code",
   "execution_count": null,
   "metadata": {},
   "outputs": [],
   "source": [
    "data_var = 0.5\n",
    "\n",
    "def denoise(noisy_img, sigma):\n",
    "    noisy_img_var = sigma**2 + data_var**2\n",
    "    scaled_noisy_img = noisy_img / noisy_img_var ** 0.5\n",
    "    return net(scaled_noisy_img, sigma) #optionally, scale sigma to -1 to 1 via log fn"
   ]
  },
  {
   "cell_type": "markdown",
   "metadata": {},
   "source": [
    "# predicting image vs noise\n",
    "\n",
    "most models forward pass involve predicting noise given a noisy_img and a sigma level—clean img reconstructed by noisy_img - noise\n",
    "\n",
    "dynamically adjust how much of the noisy_img is recycled during training (i.e. c_skip should increase in training) and modify return value:"
   ]
  },
  {
   "cell_type": "code",
   "execution_count": null,
   "metadata": {},
   "outputs": [],
   "source": [
    "def denoise(noisy_img, sigma):\n",
    "    sample_img_var = sigma**2 + data_var**2\n",
    "    scaled_noisy_img = noisy_img / sample_img_var**2\n",
    "    return c_skip * noisy_img + c_out * net(scaled_noisy_img, sigma)"
   ]
  },
  {
   "cell_type": "markdown",
   "metadata": {},
   "source": [
    "# varying loss update sizes\n",
    "due to c_skip, c_out, and other denoising reasons—the gradient updates has varying magnitude based on the current noise level—adjust loss weight some how!\n",
    "# allocating training effort\n",
    "weight could potentially be taken advantage of to train the network specifically on certain noise levels—dedicating network capacity where it ocunts. however this can be performed without scaling the magnitude of the losses simply by sampling noises by sampling noise levels during training with a particular probability disttribution that allocates where needed"
   ]
  },
  {
   "cell_type": "code",
   "execution_count": null,
   "metadata": {},
   "outputs": [],
   "source": [
    "# final soln\n",
    "sigma_data = 0.5 # from transform\n",
    "P_mean = -1.2       # average noise level (logarithmic)\n",
    "P_std = 1.2     # spread of random noise levels\n",
    "\n",
    "def net(scaled_img, scaled_noise):\n",
    "    some_noise = torch.randn_like(scaled_img)\n",
    "    return some_noise # the net outputs noise! subtract noise from the dirty_image to get cleaner!\n",
    "\n",
    "def denoise(noisy_image, sigma):\n",
    "        # Input, output and skip scale\n",
    "        c_in = 1 / torch.sqrt(sigma_data**2 + sigma**2)\n",
    "        c_out = sigma * sigma_data / torch.sqrt(sigma**2 + sigma_data**2)\n",
    "        c_skip = sigma_data**2 / (sigma**2 + sigma_data**2)\n",
    "        c_noise = torch.log(sigma) / 4      # noise label warp\n",
    " \n",
    "        # mix the input and network output to extract the clean image\n",
    "        return c_skip * noisy_image + \\\n",
    "                   c_out  * net(c_in * noisy_image, c_noise)\n",
    "                   \n",
    "# training\n",
    "for clean_image in range(1):\n",
    "    sigma = np.exp(P_mean + P_std * torch.randn([]))\n",
    "    \n",
    "    noisy_image = clean_image + sigma * torch.randn_like(clean_image)\n",
    "    \n",
    "    denoised_image = denoise(noisy_image)\n",
    "    \n",
    "    weight = (sigma**2 + sigma_data**2) / (sigma * sigma_data)**2\n",
    "    loss = weight * (denoised_image - clean_image).square().sum()"
   ]
  }
 ],
 "metadata": {
  "kernelspec": {
   "display_name": "diffusion",
   "language": "python",
   "name": "python3"
  },
  "language_info": {
   "codemirror_mode": {
    "name": "ipython",
    "version": 3
   },
   "file_extension": ".py",
   "mimetype": "text/x-python",
   "name": "python",
   "nbconvert_exporter": "python",
   "pygments_lexer": "ipython3",
   "version": "3.11.9"
  }
 },
 "nbformat": 4,
 "nbformat_minor": 2
}
